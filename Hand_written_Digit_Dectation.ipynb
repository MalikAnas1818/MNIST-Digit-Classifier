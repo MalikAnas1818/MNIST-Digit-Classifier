{
  "cells": [
    {
      "cell_type": "code",
      "execution_count": 1,
      "metadata": {
        "id": "0RIPho76bXOc"
      },
      "outputs": [],
      "source": [
        "import pandas as pd\n",
        "import matplotlib\n",
        "import matplotlib.pyplot as plt\n",
        "import seaborn as sns\n",
        "import numpy as np\n",
        "import warnings\n",
        "warnings.filterwarnings('ignore')"
      ]
    },
    {
      "cell_type": "code",
      "execution_count": 2,
      "metadata": {
        "id": "mBdQ8QKcbxGX"
      },
      "outputs": [],
      "source": [
        "from sklearn.datasets import fetch_openml"
      ]
    },
    {
      "cell_type": "code",
      "execution_count": 96,
      "metadata": {
        "id": "4bn_8m0Eb4bF"
      },
      "outputs": [],
      "source": [
        "mnist = fetch_openml('mnist_784', version=1, as_frame=False)"
      ]
    },
    {
      "cell_type": "code",
      "execution_count": 97,
      "metadata": {
        "id": "nFJ468Iob-0U"
      },
      "outputs": [],
      "source": [
        "X,y=mnist['data'],mnist['target']"
      ]
    },
    {
      "cell_type": "code",
      "execution_count": 98,
      "metadata": {
        "colab": {
          "base_uri": "https://localhost:8080/"
        },
        "id": "Nosdk3TKcGiw",
        "outputId": "10f081db-50ef-4d10-81e3-62f9b92207df"
      },
      "outputs": [
        {
          "output_type": "execute_result",
          "data": {
            "text/plain": [
              "(70000, 784)"
            ]
          },
          "metadata": {},
          "execution_count": 98
        }
      ],
      "source": [
        "X.shape"
      ]
    },
    {
      "cell_type": "code",
      "source": [
        "X.max(), X.min()"
      ],
      "metadata": {
        "colab": {
          "base_uri": "https://localhost:8080/"
        },
        "id": "pi9p5vSNlmxv",
        "outputId": "927eebd0-10bf-4fb5-9cbe-ee8bcee73afc"
      },
      "execution_count": 99,
      "outputs": [
        {
          "output_type": "execute_result",
          "data": {
            "text/plain": [
              "(np.int64(255), np.int64(0))"
            ]
          },
          "metadata": {},
          "execution_count": 99
        }
      ]
    },
    {
      "cell_type": "code",
      "execution_count": 100,
      "metadata": {
        "colab": {
          "base_uri": "https://localhost:8080/"
        },
        "id": "Q7lixLBkcLhL",
        "outputId": "5d00fad3-ed84-4b39-c794-9855b76907b0"
      },
      "outputs": [
        {
          "output_type": "execute_result",
          "data": {
            "text/plain": [
              "(70000,)"
            ]
          },
          "metadata": {},
          "execution_count": 100
        }
      ],
      "source": [
        "y.shape"
      ]
    },
    {
      "cell_type": "code",
      "execution_count": 101,
      "metadata": {
        "id": "h8pjw7bYcMfJ"
      },
      "outputs": [],
      "source": [
        "X_train,X_test,y_train,y_test=X[:60000],X[60000:],y[:60000],y[60000:]"
      ]
    },
    {
      "cell_type": "code",
      "source": [
        "# normalize the images\n",
        "X_train = X_train/255.0\n",
        "X_test = X_test/255.0"
      ],
      "metadata": {
        "id": "XrSmMJrumkHU"
      },
      "execution_count": 102,
      "outputs": []
    },
    {
      "cell_type": "code",
      "source": [
        "type(X_train)"
      ],
      "metadata": {
        "colab": {
          "base_uri": "https://localhost:8080/"
        },
        "id": "sk3Fp5Rqm6bz",
        "outputId": "d4669445-8835-4f47-90ab-3068a204108f"
      },
      "execution_count": 103,
      "outputs": [
        {
          "output_type": "execute_result",
          "data": {
            "text/plain": [
              "numpy.ndarray"
            ]
          },
          "metadata": {},
          "execution_count": 103
        }
      ]
    },
    {
      "cell_type": "code",
      "execution_count": 104,
      "metadata": {
        "id": "c01FxDnpcT5_"
      },
      "outputs": [],
      "source": [
        "# y_train = y_train.astype(np.uint8)\n",
        "# y_test = y_test.astype(np.uint8)"
      ]
    },
    {
      "cell_type": "code",
      "execution_count": 105,
      "metadata": {
        "id": "_lkA0t18cVFz"
      },
      "outputs": [],
      "source": [
        "some_digit=X[6]"
      ]
    },
    {
      "cell_type": "code",
      "execution_count": 106,
      "metadata": {
        "id": "6YOwRrhlcbnF"
      },
      "outputs": [],
      "source": [
        "some_digit_img=some_digit.reshape(28,28)"
      ]
    },
    {
      "cell_type": "code",
      "execution_count": 107,
      "metadata": {
        "colab": {
          "base_uri": "https://localhost:8080/",
          "height": 448
        },
        "id": "9WrWyT0Oceis",
        "outputId": "07ae97c5-3211-4250-c07c-2d839d406fd4"
      },
      "outputs": [
        {
          "output_type": "execute_result",
          "data": {
            "text/plain": [
              "<matplotlib.image.AxesImage at 0x7806f9222910>"
            ]
          },
          "metadata": {},
          "execution_count": 107
        },
        {
          "output_type": "display_data",
          "data": {
            "text/plain": [
              "<Figure size 640x480 with 1 Axes>"
            ],
            "image/png": "[encoded data removed]"
          },
          "metadata": {}
        }
      ],
      "source": [
        "plt.imshow(some_digit_img)"
      ]
    },
    {
      "cell_type": "code",
      "execution_count": 108,
      "metadata": {
        "id": "eDLilxnuclll"
      },
      "outputs": [],
      "source": [
        "from sklearn.linear_model import SGDClassifier\n",
        "from sklearn.ensemble import RandomForestClassifier\n",
        "from sklearn.metrics import accuracy_score,classification_report,confusion_matrix\n",
        "from sklearn.preprocessing import StandardScaler"
      ]
    },
    {
      "cell_type": "code",
      "execution_count": 109,
      "metadata": {
        "id": "lTP_4MHqdPuP"
      },
      "outputs": [],
      "source": [
        "# scaler=StandardScaler()\n",
        "# X_train=scaler.fit_transform(X_train)\n",
        "# X_test=scaler.transform(X_test)"
      ]
    },
    {
      "cell_type": "markdown",
      "metadata": {
        "id": "9LRVYosrdzWG"
      },
      "source": [
        "# **SGD Model Applying**"
      ]
    },
    {
      "cell_type": "code",
      "execution_count": 110,
      "metadata": {
        "id": "q5K35IV7dw-L"
      },
      "outputs": [],
      "source": [
        "sgd = SGDClassifier(loss=\"hinge\", max_iter=10, random_state=42)"
      ]
    },
    {
      "cell_type": "code",
      "execution_count": 111,
      "metadata": {
        "id": "Gk5sVCAReTQx"
      },
      "outputs": [],
      "source": [
        "model_sgd=sgd.fit(X_train,y_train)"
      ]
    },
    {
      "cell_type": "code",
      "execution_count": 112,
      "metadata": {
        "id": "M17WsVmUfUHK"
      },
      "outputs": [],
      "source": [
        "acc_sgd = accuracy_score(y_test, model_sgd.predict(X_test))\n"
      ]
    },
    {
      "cell_type": "code",
      "source": [
        "acc_sgd"
      ],
      "metadata": {
        "colab": {
          "base_uri": "https://localhost:8080/"
        },
        "id": "XSO16Ub8o37h",
        "outputId": "65a73f2e-aa8a-4d53-cc8e-acedbbdf6af0"
      },
      "execution_count": 113,
      "outputs": [
        {
          "output_type": "execute_result",
          "data": {
            "text/plain": [
              "0.9009"
            ]
          },
          "metadata": {},
          "execution_count": 113
        }
      ]
    },
    {
      "cell_type": "code",
      "source": [
        "y_pred_sgd=model_sgd.predict(X_test)"
      ],
      "metadata": {
        "id": "0BGXu2C3o6L_"
      },
      "execution_count": 114,
      "outputs": []
    },
    {
      "cell_type": "code",
      "source": [
        "y_pred_sgd"
      ],
      "metadata": {
        "colab": {
          "base_uri": "https://localhost:8080/"
        },
        "id": "YI6Bg0lgpX3v",
        "outputId": "da07082b-c032-478d-e8c6-9550a6b8ff34"
      },
      "execution_count": 115,
      "outputs": [
        {
          "output_type": "execute_result",
          "data": {
            "text/plain": [
              "array(['7', '2', '1', ..., '4', '5', '6'], dtype='<U1')"
            ]
          },
          "metadata": {},
          "execution_count": 115
        }
      ]
    },
    {
      "cell_type": "code",
      "source": [
        "print(\"SGD Accuracy:\", accuracy_score(y_test, y_pred_sgd))\n",
        "print(classification_report(y_test, y_pred_sgd))"
      ],
      "metadata": {
        "colab": {
          "base_uri": "https://localhost:8080/"
        },
        "id": "gI5D4Vh4pZds",
        "outputId": "ba56b93f-6a72-4a84-9274-d2bbedcaf2ba"
      },
      "execution_count": 116,
      "outputs": [
        {
          "output_type": "stream",
          "name": "stdout",
          "text": [
            "SGD Accuracy: 0.9009\n",
            "              precision    recall  f1-score   support\n",
            "\n",
            "           0       0.97      0.94      0.96       980\n",
            "           1       0.96      0.98      0.97      1135\n",
            "           2       0.91      0.88      0.90      1032\n",
            "           3       0.95      0.82      0.88      1010\n",
            "           4       0.94      0.90      0.92       982\n",
            "           5       0.72      0.92      0.81       892\n",
            "           6       0.91      0.95      0.93       958\n",
            "           7       0.90      0.94      0.92      1028\n",
            "           8       0.87      0.78      0.82       974\n",
            "           9       0.89      0.88      0.88      1009\n",
            "\n",
            "    accuracy                           0.90     10000\n",
            "   macro avg       0.90      0.90      0.90     10000\n",
            "weighted avg       0.91      0.90      0.90     10000\n",
            "\n"
          ]
        }
      ]
    },
    {
      "cell_type": "markdown",
      "source": [
        "# **Random Forest Model Applying**"
      ],
      "metadata": {
        "id": "28J_JZ_lpwa2"
      }
    },
    {
      "cell_type": "code",
      "source": [
        "rf=RandomForestClassifier()"
      ],
      "metadata": {
        "id": "YaizhHB3pe4u"
      },
      "execution_count": 117,
      "outputs": []
    },
    {
      "cell_type": "code",
      "source": [
        "model_rf=rf.fit(X_train,y_train)"
      ],
      "metadata": {
        "id": "-0gmU2IMq1Hr"
      },
      "execution_count": 118,
      "outputs": []
    },
    {
      "cell_type": "code",
      "source": [
        "y_pred_rf=model_rf.predict(X_test)"
      ],
      "metadata": {
        "id": "NLFX0MSGrA3I"
      },
      "execution_count": 119,
      "outputs": []
    },
    {
      "cell_type": "code",
      "source": [
        "acc_rf=accuracy_score(y_test,y_pred_rf)"
      ],
      "metadata": {
        "id": "zO_DfGv6rV6T"
      },
      "execution_count": 120,
      "outputs": []
    },
    {
      "cell_type": "code",
      "source": [
        "acc_rf"
      ],
      "metadata": {
        "colab": {
          "base_uri": "https://localhost:8080/"
        },
        "id": "EgweGLulrdHn",
        "outputId": "55d97418-f377-4f65-84a1-c614d0beae4b"
      },
      "execution_count": 121,
      "outputs": [
        {
          "output_type": "execute_result",
          "data": {
            "text/plain": [
              "0.9693"
            ]
          },
          "metadata": {},
          "execution_count": 121
        }
      ]
    },
    {
      "cell_type": "code",
      "source": [
        "print(\"Random Forest Accuracy:\",acc_rf)\n",
        "print(classification_report(y_test,y_pred_rf))"
      ],
      "metadata": {
        "colab": {
          "base_uri": "https://localhost:8080/"
        },
        "id": "7baY4KjOreSQ",
        "outputId": "4d3208c5-9302-43e0-e312-0c97a4794dbe"
      },
      "execution_count": 122,
      "outputs": [
        {
          "output_type": "stream",
          "name": "stdout",
          "text": [
            "Random Forest Accuracy: 0.9693\n",
            "              precision    recall  f1-score   support\n",
            "\n",
            "           0       0.97      0.99      0.98       980\n",
            "           1       0.99      0.99      0.99      1135\n",
            "           2       0.96      0.97      0.96      1032\n",
            "           3       0.96      0.96      0.96      1010\n",
            "           4       0.97      0.97      0.97       982\n",
            "           5       0.97      0.96      0.97       892\n",
            "           6       0.98      0.98      0.98       958\n",
            "           7       0.97      0.96      0.97      1028\n",
            "           8       0.96      0.96      0.96       974\n",
            "           9       0.96      0.95      0.96      1009\n",
            "\n",
            "    accuracy                           0.97     10000\n",
            "   macro avg       0.97      0.97      0.97     10000\n",
            "weighted avg       0.97      0.97      0.97     10000\n",
            "\n"
          ]
        }
      ]
    },
    {
      "cell_type": "code",
      "source": [
        "# Step 5: Plot Accuracy Comparison\n",
        "models = [ 'SGD (Hinge Loss)', 'Random Forest']\n",
        "accuracies = [ acc_sgd, acc_rf]\n",
        "\n",
        "plt.figure(figsize=(8, 5))\n",
        "plt.bar(models, accuracies, color=[ 'orange', 'green'])\n",
        "plt.title('Model Accuracy Comparison')\n",
        "plt.ylabel('Accuracy')\n",
        "plt.ylim(0, 1)  # Accuracy between 0 and 1\n",
        "for i, acc in enumerate(accuracies):\n",
        "    plt.text(i, acc + 0.01, f\"{acc:.2f}\", ha='center', fontsize=12)\n",
        "\n",
        "plt.grid(axis='y', linestyle='--', alpha=0.7)\n",
        "plt.show()\n"
      ],
      "metadata": {
        "colab": {
          "base_uri": "https://localhost:8080/",
          "height": 468
        },
        "id": "vFi23-t0r4x8",
        "outputId": "035863b9-59a8-4481-d78f-9fd1bcbe868b"
      },
      "execution_count": 123,
      "outputs": [
        {
          "output_type": "display_data",
          "data": {
            "text/plain": [
              "<Figure size 800x500 with 1 Axes>"
            ],
            "image/png": "[encoded data removed]"
          },
          "metadata": {}
        }
      ]
    },
    {
      "cell_type": "code",
      "source": [
        "import matplotlib.pyplot as plt\n",
        "\n",
        "# Select model to visualize: SGD or RF\n",
        "model = rf  # or sgd\n",
        "X_used = X_test if model == rf else X_test\n",
        "y_pred = model.predict(X_used)\n",
        "y_prob = model.predict_proba(X_used)\n",
        "\n",
        "wrong_mask = y_pred != y_test\n",
        "wrong_imgs = X_test[wrong_mask]    # Assuming X_test are image-like\n",
        "wrong_true = y_test[wrong_mask]\n",
        "wrong_pred = y_pred[wrong_mask]\n",
        "wrong_conf = np.max(y_prob[wrong_mask], axis=1)\n",
        "\n",
        "# Top 10 most confident wrong predictions\n",
        "worst_idx = np.argsort(wrong_conf)[-10:]\n",
        "\n",
        "plt.figure(figsize=(12, 6))\n",
        "for i, idx in enumerate(worst_idx):\n",
        "    plt.subplot(2, 5, i + 1)\n",
        "    plt.imshow(wrong_imgs[idx].reshape(28, 28), cmap=\"gray\")\n",
        "    plt.title(f\"True: {wrong_true[idx]}\\nPred: {wrong_pred[idx]}\")\n",
        "    plt.axis('off')\n",
        "\n",
        "plt.suptitle(\"Worst Misclassifications\")\n",
        "plt.tight_layout()\n",
        "plt.show()\n",
        "\n"
      ],
      "metadata": {
        "colab": {
          "base_uri": "https://localhost:8080/",
          "height": 593
        },
        "id": "dMrcLj-xsOqY",
        "outputId": "5b27b0db-50a9-427f-ea54-a646929c7c71"
      },
      "execution_count": 124,
      "outputs": [
        {
          "output_type": "display_data",
          "data": {
            "text/plain": [
              "<Figure size 1200x600 with 10 Axes>"
            ],
            "image/png": "[encoded data removed]"
          },
          "metadata": {}
        }
      ]
    },
    {
      "cell_type": "code",
      "source": [
        "import matplotlib.pyplot as plt\n",
        "\n",
        "# Select model to visualize: SGD or RF\n",
        "model = rf  # or sgd\n",
        "X_used = X_test if model == rf else X_test\n",
        "y_pred = model.predict(X_used)\n",
        "y_prob = model.predict_proba(X_used)\n",
        "\n",
        "wrong_mask = y_pred == y_test\n",
        "wrong_imgs = X_test[wrong_mask]    # Assuming X_test are image-like\n",
        "wrong_true = y_test[wrong_mask]\n",
        "wrong_pred = y_pred[wrong_mask]\n",
        "wrong_conf = np.max(y_prob[wrong_mask], axis=1)\n",
        "\n",
        "# Top 10 most confident wrong predictions\n",
        "worst_idx = np.argsort(wrong_conf)[-10:]\n",
        "\n",
        "plt.figure(figsize=(12, 6))\n",
        "for i, idx in enumerate(worst_idx):\n",
        "    plt.subplot(2, 5, i + 1)\n",
        "    plt.imshow(wrong_imgs[idx].reshape(28, 28))\n",
        "    plt.title(f\"True: {wrong_true[idx]}\\nPred: {wrong_pred[idx]}\")\n",
        "    plt.axis('off')\n",
        "\n",
        "plt.suptitle(\"Right Misclassifications\")\n",
        "plt.tight_layout()\n",
        "plt.show()"
      ],
      "metadata": {
        "colab": {
          "base_uri": "https://localhost:8080/",
          "height": 593
        },
        "id": "9D08rCKwsjF7",
        "outputId": "00b3654a-9ab9-4a80-db79-986779c892ec"
      },
      "execution_count": 125,
      "outputs": [
        {
          "output_type": "display_data",
          "data": {
            "text/plain": [
              "<Figure size 1200x600 with 10 Axes>"
            ],
            "image/png": "[encoded data removed]"
          },
          "metadata": {}
        }
      ]
    },
    {
      "cell_type": "code",
      "source": [
        "model_rf.predict([X_test[0]])"
      ],
      "metadata": {
        "colab": {
          "base_uri": "https://localhost:8080/"
        },
        "id": "utqwN2MJkR4-",
        "outputId": "d0852243-6d18-49dc-8634-2d5d14a37513"
      },
      "execution_count": 54,
      "outputs": [
        {
          "output_type": "execute_result",
          "data": {
            "text/plain": [
              "array(['7'], dtype=object)"
            ]
          },
          "metadata": {},
          "execution_count": 54
        }
      ]
    },
    {
      "cell_type": "code",
      "source": [
        "y_test[0]"
      ],
      "metadata": {
        "colab": {
          "base_uri": "https://localhost:8080/",
          "height": 36
        },
        "id": "ZjsyXxLIkXtJ",
        "outputId": "223a1e86-b451-4fb3-fbf4-113311236816"
      },
      "execution_count": 55,
      "outputs": [
        {
          "output_type": "execute_result",
          "data": {
            "text/plain": [
              "'7'"
            ],
            "application/vnd.google.colaboratory.intrinsic+json": {
              "type": "string"
            }
          },
          "metadata": {},
          "execution_count": 55
        }
      ]
    },
    {
      "cell_type": "code",
      "source": [
        "import random\n",
        "\n",
        "def test_random_predictions(n=5, model_choice=\"SGD\"):\n",
        "    print(f\"\\nTesting {n} random images using model: {model_choice}\\n\")\n",
        "    for i in range(n):\n",
        "        idx = random.randint(0, len(X_test) - 1)\n",
        "        img = X_test[idx]\n",
        "        label = y_test[idx]\n",
        "\n",
        "        # Predict\n",
        "        # img_input = img.reshape(1, -1) / 255.0\n",
        "        # img_scaled = scaler.transform([img])\n",
        "\n",
        "        if model_choice == \"SGD\":\n",
        "            pred = model_sgd.predict([img])[0]\n",
        "        else:\n",
        "            pred = model_rf.predict([img])[0]\n",
        "\n",
        "        result = \"✅ Correct\" if pred == label else \"❌ Wrong\"\n",
        "        print(f\"[{i+1}] Predicted: {pred}, Actual: {label} → {result}\")\n"
      ],
      "metadata": {
        "id": "LsqPQkegkcrP"
      },
      "execution_count": 148,
      "outputs": []
    },
    {
      "cell_type": "code",
      "source": [
        "test_random_predictions(n=15, model_choice=\"SGD\")\n",
        "test_random_predictions(n=15, model_choice=\"Random Forest\")\n"
      ],
      "metadata": {
        "colab": {
          "base_uri": "https://localhost:8080/"
        },
        "id": "InPC6ZvAk2cL",
        "outputId": "ceade884-8391-4b0f-addc-f9530cfbd7b8"
      },
      "execution_count": 151,
      "outputs": [
        {
          "output_type": "stream",
          "name": "stdout",
          "text": [
            "\n",
            "Testing 15 random images using model: SGD\n",
            "\n",
            "[1] Predicted: 2, Actual: 2 → ✅ Correct\n",
            "[2] Predicted: 9, Actual: 9 → ✅ Correct\n",
            "[3] Predicted: 5, Actual: 5 → ✅ Correct\n",
            "[4] Predicted: 1, Actual: 1 → ✅ Correct\n",
            "[5] Predicted: 0, Actual: 8 → ❌ Wrong\n",
            "[6] Predicted: 4, Actual: 4 → ✅ Correct\n",
            "[7] Predicted: 6, Actual: 6 → ✅ Correct\n",
            "[8] Predicted: 4, Actual: 4 → ✅ Correct\n",
            "[9] Predicted: 4, Actual: 9 → ❌ Wrong\n",
            "[10] Predicted: 3, Actual: 3 → ✅ Correct\n",
            "[11] Predicted: 9, Actual: 9 → ✅ Correct\n",
            "[12] Predicted: 3, Actual: 3 → ✅ Correct\n",
            "[13] Predicted: 4, Actual: 4 → ✅ Correct\n",
            "[14] Predicted: 5, Actual: 5 → ✅ Correct\n",
            "[15] Predicted: 9, Actual: 4 → ❌ Wrong\n",
            "\n",
            "Testing 15 random images using model: Random Forest\n",
            "\n",
            "[1] Predicted: 4, Actual: 4 → ✅ Correct\n",
            "[2] Predicted: 7, Actual: 7 → ✅ Correct\n",
            "[3] Predicted: 9, Actual: 9 → ✅ Correct\n",
            "[4] Predicted: 6, Actual: 6 → ✅ Correct\n",
            "[5] Predicted: 8, Actual: 8 → ✅ Correct\n",
            "[6] Predicted: 4, Actual: 4 → ✅ Correct\n",
            "[7] Predicted: 7, Actual: 7 → ✅ Correct\n",
            "[8] Predicted: 0, Actual: 0 → ✅ Correct\n",
            "[9] Predicted: 8, Actual: 8 → ✅ Correct\n",
            "[10] Predicted: 0, Actual: 0 → ✅ Correct\n",
            "[11] Predicted: 4, Actual: 4 → ✅ Correct\n",
            "[12] Predicted: 4, Actual: 4 → ✅ Correct\n",
            "[13] Predicted: 6, Actual: 4 → ❌ Wrong\n",
            "[14] Predicted: 9, Actual: 9 → ✅ Correct\n",
            "[15] Predicted: 9, Actual: 9 → ✅ Correct\n"
          ]
        }
      ]
    },
    {
      "cell_type": "code",
      "source": [
        "import matplotlib.pyplot as plt\n",
        "import numpy as np\n",
        "import os\n",
        "\n",
        "# Ensure output folder exists\n",
        "os.makedirs(\"mnist_digits\", exist_ok=True)\n",
        "\n",
        "# Save first 5 digit images from X\n",
        "for i in range(5):\n",
        "    img_array = X[i].reshape(28, 28)  # reshape 1D to 2D\n",
        "    plt.imsave(f\"mnist_digits/digit_{i}.png\", img_array, cmap='gray')\n"
      ],
      "metadata": {
        "id": "AreHHM3WpdZg"
      },
      "execution_count": 141,
      "outputs": []
    },
    {
      "cell_type": "code",
      "source": [
        "import gradio as gr\n",
        "import numpy as np\n",
        "\n",
        "def predict_digit(img, model_choice):\n",
        "    if img is None:\n",
        "        return \"No image received.\"\n",
        "\n",
        "    try:\n",
        "        # Step 1: Convert RGB to Grayscale if needed\n",
        "        if img.ndim == 3 and img.shape[2] == 3:\n",
        "            img = img.mean(axis=2)  # RGB → Grayscale\n",
        "\n",
        "        # Step 2: Flatten and normalize\n",
        "        img = img.reshape(1, -1) / 255.0\n",
        "\n",
        "        # Step 3: Predict\n",
        "        if model_choice == \"SGD\":\n",
        "            pred = model_sgd.predict(img)[0]\n",
        "        else:\n",
        "            pred = model_rf.predict(img)[0]\n",
        "\n",
        "        return f\"Predicted Digit: {pred}\"\n",
        "\n",
        "    except Exception as e:\n",
        "        return f\"Error: {str(e)}\"\n",
        "\n",
        "\n",
        "# Gradio Interface\n",
        "iface = gr.Interface(\n",
        "    fn=predict_digit,\n",
        "    inputs=[\n",
        "        gr.Image(type=\"numpy\", label=\"Upload 28x28 Grayscale Digit\"),\n",
        "        gr.Dropdown([\"SGD\", \"Random Forest\"], label=\"Choose Model\")\n",
        "    ],\n",
        "    outputs=\"text\",\n",
        "    title=\"MNIST Digit Recognizer (0–9)\",\n",
        "    description=\"Upload a 28x28 grayscale digit image. Choose model to predict.\"\n",
        ")\n",
        "\n",
        "iface.launch()\n"
      ],
      "metadata": {
        "colab": {
          "base_uri": "https://localhost:8080/",
          "height": 653
        },
        "id": "QV9l0FTFk41f",
        "outputId": "8f66aa6f-4ed0-46bc-c1f0-ed9d29f5b778"
      },
      "execution_count": 147,
      "outputs": [
        {
          "output_type": "stream",
          "name": "stdout",
          "text": [
            "It looks like you are running Gradio on a hosted a Jupyter notebook. For the Gradio app to work, sharing must be enabled. Automatically setting `share=True` (you can turn this off by setting `share=False` in `launch()` explicitly).\n",
            "\n",
            "Colab notebook detected. To show errors in colab notebook, set debug=True in launch()\n",
            "* Running on public URL: https://9fde8e3d203452ad31.gradio.live\n",
            "\n",
            "This share link expires in 1 week. For free permanent hosting and GPU upgrades, run `gradio deploy` from the terminal in the working directory to deploy to Hugging Face Spaces (https://huggingface.co/spaces)\n"
          ]
        },
        {
          "output_type": "display_data",
          "data": {
            "text/plain": [
              "<IPython.core.display.HTML object>"
            ],
            "text/html": [
              "<div><iframe src=\"https://9fde8e3d203452ad31.gradio.live\" width=\"100%\" height=\"500\" allow=\"autoplay; camera; microphone; clipboard-read; clipboard-write;\" frameborder=\"0\" allowfullscreen></iframe></div>"
            ]
          },
          "metadata": {}
        },
        {
          "output_type": "execute_result",
          "data": {
            "text/plain": []
          },
          "metadata": {},
          "execution_count": 147
        }
      ]
    },
    {
      "cell_type": "code",
      "source": [],
      "metadata": {
        "id": "xiTd9hCyoUu2"
      },
      "execution_count": null,
      "outputs": []
    }
  ],
  "metadata": {
    "colab": {
      "provenance": []
    },
    "kernelspec": {
      "display_name": "Python 3",
      "name": "python3"
    },
    "language_info": {
      "name": "python"
    }
  },
  "nbformat": 4,
  "nbformat_minor": 0
}